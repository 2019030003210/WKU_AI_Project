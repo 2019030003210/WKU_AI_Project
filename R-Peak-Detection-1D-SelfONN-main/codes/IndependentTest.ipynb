{
 "cells": [
  {
   "cell_type": "code",
   "id": "initial_id",
   "metadata": {
    "collapsed": true,
    "ExecuteTime": {
     "end_time": "2024-12-07T07:32:23.642612Z",
     "start_time": "2024-12-07T07:32:23.628614Z"
    }
   },
   "source": [
    "from helper_functions import train_selfONN, test_selfONN\n",
    "\n",
    "from pathlib import Path\n",
    "import pandas as pd\n",
    "\n",
    "import torch\n",
    "from tqdm import tqdm\n",
    "import numpy as np\n",
    "from torch.utils.data import DataLoader, TensorDataset\n",
    "\n",
    "import time\n",
    "import os"
   ],
   "outputs": [],
   "execution_count": 3
  },
  {
   "metadata": {
    "ExecuteTime": {
     "end_time": "2024-12-07T07:32:59.138527Z",
     "start_time": "2024-12-07T07:32:58.730670Z"
    }
   },
   "cell_type": "code",
   "source": [
    "Q = [3]\n",
    "base_path = '../'\n",
    "results_all = np.zeros((10*len(Q),6), dtype = np.int32)\n",
    "perc_all = np.zeros((10*len(Q),3), dtype = np.float32)\n",
    "results_S = np.zeros((10*len(Q),5), dtype = np.int32)\n",
    "results_V = np.zeros((10*len(Q),5), dtype = np.int32)\n",
    "\n",
    "count = 0\n",
    "\n",
    "for pat_num in [7]:\n",
    "\n",
    "    for q in Q: # 模型里面有一个q3_{3}\n",
    "\n",
    "\n",
    "        # Training\n",
    "        # train_selfONN(pat_num, q, epochs = num_epochs)\n",
    "\n",
    "        # Testing\n",
    "        stats_R, stats_S, stats_V = test_selfONN(pat_num, q, threshold = 0.1)\n",
    "\n",
    "        #_______________________________________________\n",
    "        # Saving stats\n",
    "        #_______________________________________________\n",
    "\n",
    "        if not os.path.exists(base_path + 'Results'):\n",
    "            os.makedirs(base_path + 'Results')\n",
    "\n",
    "        # Save Results for All beats\n",
    "        results_all[count][0] = pat_num\n",
    "        results_all[count][1] = q\n",
    "        results_all[count][2:] = stats_R[:4]\n",
    "        perc_all[count] = stats_R[4:7]\n",
    "\n",
    "        df_all = pd.DataFrame(results_all)\n",
    "        df_all = pd.concat([df_all, pd.DataFrame(perc_all, dtype = np.float32)], axis=1)\n",
    "        df_all.columns = ['Patient No', 'Q', 'Total Beats', 'TP', 'FN', 'FP', 'Recall', 'Precision', 'F1']\n",
    "        f = base_path + 'Results/selfONN_all_3a.csv'\n",
    "        df_all.to_csv (r'{}'.format(f), index = False, header=True)\n",
    "\n",
    "\n",
    "        # Save Results for S beats\n",
    "        if stats_S != []:\n",
    "            results_S[count][0] = pat_num\n",
    "            results_S[count][1] = q\n",
    "            results_S[count][2:] = stats_S[:3]\n",
    "\n",
    "            df_S = pd.DataFrame(results_S)\n",
    "            df_S.columns = ['Patient No', 'Q','Total Beats', 'Detected', 'Missed']\n",
    "            f = base_path + 'Results/selfONN_S_3a.csv'\n",
    "            df_S.to_csv (r'{}'.format(f), index = False, header=True)\n",
    "\n",
    "        # Save Results for V beats\n",
    "        if stats_V != []:\n",
    "\n",
    "            results_V[count][0] = pat_num\n",
    "            results_V[count][1] = q\n",
    "            results_V[count][2:] = stats_V[:3]\n",
    "\n",
    "            df_V = pd.DataFrame(results_V)\n",
    "            df_V.columns = ['Patient No', 'Q','Total Beats', 'Detected', 'Missed']\n",
    "            f = base_path + 'Results/selfONN_V_3a.csv'\n",
    "            df_V.to_csv (r'{}'.format(f), index = False, header=True)\n",
    "\n",
    "        count += 1"
   ],
   "id": "8ac4a0721783a028",
   "outputs": [
    {
     "ename": "NameError",
     "evalue": "name 'Q' is not defined",
     "output_type": "error",
     "traceback": [
      "\u001B[1;31m---------------------------------------------------------------------------\u001B[0m",
      "\u001B[1;31mNameError\u001B[0m                                 Traceback (most recent call last)",
      "Cell \u001B[1;32mIn[4], line 3\u001B[0m\n\u001B[0;32m      1\u001B[0m \u001B[38;5;28;01mfor\u001B[39;00m pat_num \u001B[38;5;129;01min\u001B[39;00m [\u001B[38;5;241m7\u001B[39m]:\n\u001B[1;32m----> 3\u001B[0m     \u001B[38;5;28;01mfor\u001B[39;00m q \u001B[38;5;129;01min\u001B[39;00m \u001B[43mQ\u001B[49m: \u001B[38;5;66;03m# 模型里面有一个q3_{3}\u001B[39;00m\n\u001B[0;32m      4\u001B[0m \n\u001B[0;32m      5\u001B[0m \n\u001B[0;32m      6\u001B[0m         \u001B[38;5;66;03m# Training\u001B[39;00m\n\u001B[0;32m      7\u001B[0m         train_selfONN(pat_num, q, epochs \u001B[38;5;241m=\u001B[39m num_epochs)\n\u001B[0;32m      9\u001B[0m         \u001B[38;5;66;03m# Testing\u001B[39;00m\n",
      "\u001B[1;31mNameError\u001B[0m: name 'Q' is not defined"
     ]
    }
   ],
   "execution_count": 4
  },
  {
   "metadata": {},
   "cell_type": "code",
   "outputs": [],
   "execution_count": null,
   "source": "",
   "id": "69b6c02a3c6c93bb"
  }
 ],
 "metadata": {
  "kernelspec": {
   "display_name": "Python 3",
   "language": "python",
   "name": "python3"
  },
  "language_info": {
   "codemirror_mode": {
    "name": "ipython",
    "version": 2
   },
   "file_extension": ".py",
   "mimetype": "text/x-python",
   "name": "python",
   "nbconvert_exporter": "python",
   "pygments_lexer": "ipython2",
   "version": "2.7.6"
  }
 },
 "nbformat": 4,
 "nbformat_minor": 5
}
